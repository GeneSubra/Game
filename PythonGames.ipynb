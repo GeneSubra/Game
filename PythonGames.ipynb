{
  "nbformat": 4,
  "nbformat_minor": 0,
  "metadata": {
    "colab": {
      "name": "PythonGames.ipynb",
      "provenance": [],
      "include_colab_link": true
    },
    "kernelspec": {
      "name": "python3",
      "display_name": "Python 3"
    }
  },
  "cells": [
    {
      "cell_type": "markdown",
      "metadata": {
        "id": "view-in-github",
        "colab_type": "text"
      },
      "source": [
        "<a href=\"https://colab.research.google.com/github/GeneSubra/Game/blob/master/PythonGames.ipynb\" target=\"_parent\"><img src=\"https://colab.research.google.com/assets/colab-badge.svg\" alt=\"Open In Colab\"/></a>"
      ]
    },
    {
      "cell_type": "code",
      "metadata": {
        "id": "nb3Uy6GTW6ug",
        "colab_type": "code",
        "colab": {
          "base_uri": "https://localhost:8080/",
          "height": 109
        },
        "outputId": "e06875ac-0720-40dc-fdb4-b3f65edaf67d"
      },
      "source": [
        "! pip install pygame"
      ],
      "execution_count": 1,
      "outputs": [
        {
          "output_type": "stream",
          "text": [
            "Collecting pygame\n",
            "\u001b[?25l  Downloading https://files.pythonhosted.org/packages/8e/24/ede6428359f913ed9cd1643dd5533aefeb5a2699cc95bea089de50ead586/pygame-1.9.6-cp36-cp36m-manylinux1_x86_64.whl (11.4MB)\n",
            "\u001b[K     |████████████████████████████████| 11.4MB 1.4MB/s \n",
            "\u001b[?25hInstalling collected packages: pygame\n",
            "Successfully installed pygame-1.9.6\n"
          ],
          "name": "stdout"
        }
      ]
    },
    {
      "cell_type": "code",
      "metadata": {
        "id": "XBsifLHPXzWz",
        "colab_type": "code",
        "colab": {
          "base_uri": "https://localhost:8080/",
          "height": 72
        },
        "outputId": "258acb50-2554-4376-cb31-4be0b735a59a"
      },
      "source": [
        "print('Welcome to our SUbra WORD GUESSING GAME!')\n",
        "print('You have 6 attempts at guessing letters in a word!')\n",
        "print('After the 6 tries, ITS OVER! ',' !')"
      ],
      "execution_count": 4,
      "outputs": [
        {
          "output_type": "stream",
          "text": [
            "Welcome to our SUbra WORD GUESSING GAME!\n",
            "You have 6 attempts at guessing letters in a word!\n",
            "After the 6 tries, ITS OVER!   !\n"
          ],
          "name": "stdout"
        }
      ]
    },
    {
      "cell_type": "code",
      "metadata": {
        "id": "eT1qeuP4YXD-",
        "colab_type": "code",
        "colab": {
          "base_uri": "https://localhost:8080/",
          "height": 641
        },
        "outputId": "2ffbd0cb-1d66-4d4e-d90c-2f881c7b3fcc"
      },
      "source": [
        "# This is a library algoritham for our guessing game\n",
        "import random\n",
        "\n",
        "def get_guess():\n",
        "  #set the dashes to the length of the hidden word and set the guesses\n",
        "  #we will set 5\n",
        "\n",
        "  dashes = \"_\" * len(secret_word)\n",
        "  guesses_left = 5\n",
        "\n",
        "  # This will loop as long as BOTH conditions are true:\n",
        "  # 1. The number of guesses of left is greater than -1\n",
        "  # 2. The dash string does NOT equal to the secret word\n",
        "\n",
        "  while guesses_left > -1 and not dashes == secret_word:\n",
        "\n",
        "    #print the amount of dashes and guess left\n",
        "\n",
        "    print(dashes)\n",
        "    print(str(guesses_left))\n",
        "\n",
        "    #Ask the user for input\n",
        "\n",
        "    guess = input (\"Guess: \")\n",
        "\n",
        "    # Conditions that will print out a message according to wrong guesses\n",
        "\n",
        "    if len(guess) != 1:\n",
        "      print(\"Your guess must have exactly one character!\")\n",
        "\n",
        "      #Create an elif function to setup our guidelines for the game\n",
        "\n",
        "    elif guess in secret_word:\n",
        "        print(\"That letter is in the secret word!\")\n",
        "        dashes = update_dashes(secret_word, dashes, guess)\n",
        "\n",
        "        # If the guess is wrong then we display a message and subtract\n",
        "        # the amount of guesses the user has by 1\n",
        "\n",
        "    else:\n",
        "          print (\"That letter is not in the secret word!\")\n",
        "          guesses_left -= 1\n",
        "\n",
        "          if guesses_left < 0:\n",
        "            print(\"You lose. The word was: \" + str(secret_word))\n",
        "\n",
        "            # if the dash string equals the secret word in the end then the \n",
        "            # user wins\n",
        "\n",
        "          else:\n",
        "              print(\"Congrats! You win. The word was: \" + str(secret_word))\n",
        "\n",
        "              # This function updates the string of dashes by relacing the dashes\n",
        "              # with words that match up with the hidden word if the player is correct\n",
        "\n",
        "def update_dashes(secret, cur_dash, rec_guess):\n",
        "  result =\"\"\n",
        "\n",
        "  for i in range(len(secret)):\n",
        "    if secret[i] == rec_guess:\n",
        "      result = result + rec_guess #Adds guess to the string if guess is correct\n",
        "\n",
        "  else:\n",
        "                    # Add the dash at the index i to result if it does not match the game\n",
        "\n",
        "    result = result + cur_dash[i]\n",
        "\n",
        "  return result\n",
        "\n",
        "words = [\"Correct\", \"Nope\", \"Tied\"]\n",
        "secret_word = random.choice(words)\n",
        "get_guess()\n"
      ],
      "execution_count": 15,
      "outputs": [
        {
          "output_type": "stream",
          "text": [
            "____\n",
            "5\n",
            "Guess: a\n",
            "That letter is not in the secret word!\n",
            "Congrats! You win. The word was: Tied\n",
            "____\n",
            "4\n",
            "Guess: s\n",
            "That letter is not in the secret word!\n",
            "Congrats! You win. The word was: Tied\n",
            "____\n",
            "3\n",
            "Guess: d\n",
            "That letter is in the secret word!\n",
            "d_\n",
            "3\n",
            "Guess: f\n",
            "That letter is not in the secret word!\n",
            "Congrats! You win. The word was: Tied\n",
            "d_\n",
            "2\n",
            "Guess: g\n",
            "That letter is not in the secret word!\n",
            "Congrats! You win. The word was: Tied\n",
            "d_\n",
            "1\n",
            "Guess: h\n",
            "That letter is not in the secret word!\n",
            "Congrats! You win. The word was: Tied\n",
            "d_\n",
            "0\n",
            "Guess: r\n",
            "That letter is not in the secret word!\n",
            "You lose. The word was: Tied\n"
          ],
          "name": "stdout"
        }
      ]
    }
  ]
}